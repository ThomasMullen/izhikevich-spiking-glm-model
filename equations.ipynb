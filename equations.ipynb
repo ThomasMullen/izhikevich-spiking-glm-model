{
 "cells": [
  {
   "cell_type": "markdown",
   "metadata": {},
   "source": [
    "$$ \\dot{v} = 0.04v^{2} + 5v + 140 − u + I(t) $$\n",
    "$$\\dot{u} = a(bv-u)$$"
   ]
  },
  {
   "cell_type": "markdown",
   "metadata": {},
   "source": [
    "$$ v(t) >= 30 $$ Threshold"
   ]
  },
  {
   "cell_type": "markdown",
   "metadata": {},
   "source": []
  },
  {
   "cell_type": "markdown",
   "metadata": {},
   "source": []
  }
 ],
 "metadata": {
  "kernelspec": {
   "display_name": "Python 3 (ipykernel)",
   "language": "python",
   "name": "python3"
  },
  "language_info": {
   "codemirror_mode": {
    "name": "ipython",
    "version": 3
   },
   "file_extension": ".py",
   "mimetype": "text/x-python",
   "name": "python",
   "nbconvert_exporter": "python",
   "pygments_lexer": "ipython3",
   "version": "3.8.13"
  },
  "vscode": {
   "interpreter": {
    "hash": "1e5e42d13c9fac2365a37929006d8953e4c0bc8700b8c8076c812fa66478259a"
   }
  }
 },
 "nbformat": 4,
 "nbformat_minor": 2
}
